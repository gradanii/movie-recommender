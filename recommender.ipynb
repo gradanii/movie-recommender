{
 "cells": [
  {
   "cell_type": "code",
   "execution_count": 1,
   "metadata": {},
   "outputs": [],
   "source": [
    "import pandas as pd"
   ]
  },
  {
   "cell_type": "code",
   "execution_count": 2,
   "metadata": {},
   "outputs": [
    {
     "name": "stdout",
     "output_type": "stream",
     "text": [
      "   movieId                               title  \\\n",
      "0        1                    Toy Story (1995)   \n",
      "1        2                      Jumanji (1995)   \n",
      "2        3             Grumpier Old Men (1995)   \n",
      "3        4            Waiting to Exhale (1995)   \n",
      "4        5  Father of the Bride Part II (1995)   \n",
      "\n",
      "                                        genres  \n",
      "0  Adventure|Animation|Children|Comedy|Fantasy  \n",
      "1                   Adventure|Children|Fantasy  \n",
      "2                               Comedy|Romance  \n",
      "3                         Comedy|Drama|Romance  \n",
      "4                                       Comedy  \n",
      "   userId  movieId  rating  timestamp\n",
      "0       1        1     4.0  964982703\n",
      "1       1        3     4.0  964981247\n",
      "2       1        6     4.0  964982224\n",
      "3       1       47     5.0  964983815\n",
      "4       1       50     5.0  964982931\n"
     ]
    }
   ],
   "source": [
    "movies = pd.read_csv('ml-latest-small/movies.csv')\n",
    "ratings = pd.read_csv('ml-latest-small/ratings.csv')\n",
    "\n",
    "print(movies.head())\n",
    "print(ratings.head())"
   ]
  },
  {
   "cell_type": "code",
   "execution_count": 4,
   "metadata": {},
   "outputs": [
    {
     "name": "stdout",
     "output_type": "stream",
     "text": [
      "userId     0\n",
      "movieId    0\n",
      "rating     0\n",
      "title      0\n",
      "genres     0\n",
      "dtype: int64\n",
      "   userId  movieId  rating                        title  \\\n",
      "0       1        1     4.0             Toy Story (1995)   \n",
      "1       1        3     4.0      Grumpier Old Men (1995)   \n",
      "2       1        6     4.0                  Heat (1995)   \n",
      "3       1       47     5.0  Seven (a.k.a. Se7en) (1995)   \n",
      "4       1       50     5.0   Usual Suspects, The (1995)   \n",
      "\n",
      "                                        genres  \n",
      "0  Adventure|Animation|Children|Comedy|Fantasy  \n",
      "1                               Comedy|Romance  \n",
      "2                        Action|Crime|Thriller  \n",
      "3                             Mystery|Thriller  \n",
      "4                       Crime|Mystery|Thriller  \n"
     ]
    }
   ],
   "source": [
    "df = ratings.merge(movies, on='movieId')\n",
    "\n",
    "df = df.drop(columns=['timestamp'])\n",
    "\n",
    "print(df.isnull().sum())\n",
    "\n",
    "print(df.head())"
   ]
  },
  {
   "cell_type": "code",
   "execution_count": 45,
   "metadata": {},
   "outputs": [
    {
     "name": "stdout",
     "output_type": "stream",
     "text": [
      "                                     title  rating\n",
      "0                               '71 (2014)     4.0\n",
      "1  'Hellboy': The Seeds of Creation (2004)     4.0\n",
      "2                   'Round Midnight (1986)     3.5\n",
      "3                      'Salem's Lot (2004)     5.0\n",
      "4                'Til There Was You (1997)     4.0\n",
      "                                     title  rating\n",
      "0                               '71 (2014)       1\n",
      "1  'Hellboy': The Seeds of Creation (2004)       1\n",
      "2                   'Round Midnight (1986)       2\n",
      "3                      'Salem's Lot (2004)       1\n",
      "4                'Til There Was You (1997)       2\n"
     ]
    }
   ],
   "source": [
    "rating_mean = df.groupby('title').agg({'rating':'mean'}).reset_index()\n",
    "rating_count = df.groupby('title').agg({'rating':'count'}).reset_index()\n",
    "\n",
    "print(rating_mean.head())\n",
    "print(rating_count.head())"
   ]
  },
  {
   "cell_type": "code",
   "execution_count": 79,
   "metadata": {},
   "outputs": [],
   "source": [
    "rating_mean.rename(columns={'rating': 'rating_x'}, inplace=True)\n",
    "rating_count.rename(columns={'rating': 'rating_y'}, inplace=True)\n",
    "\n",
    "movies_mean_count = rating_mean.merge(rating_count, on='title', suffixes=['_x', '_y'])\n",
    "\n",
    "movies_mean_count = movies_mean_count.copy()\n",
    "\n",
    "df.loc[:, 'rating_x'] = movies_mean_count['rating_x']\n",
    "\n",
    "df.loc[:, 'rating_y'] = movies_mean_count['rating_y']\n"
   ]
  },
  {
   "cell_type": "code",
   "execution_count": 80,
   "metadata": {},
   "outputs": [],
   "source": [
    "df_unique = df.drop_duplicates(subset=['title'])"
   ]
  },
  {
   "cell_type": "code",
   "execution_count": 81,
   "metadata": {},
   "outputs": [
    {
     "name": "stdout",
     "output_type": "stream",
     "text": [
      "                                            title  rating_y\n",
      "6865                   Kicking & Screaming (2005)     307.0\n",
      "4662                       This Is England (2006)     238.0\n",
      "7421                     The Darkest Minds (2018)     220.0\n",
      "405                   Sweet Hereafter, The (1997)     204.0\n",
      "565                                Sabrina (1995)     201.0\n",
      "3499                             Grown Ups (2010)     192.0\n",
      "836                             Striptease (1996)     189.0\n",
      "298                                Troll 2 (1990)     183.0\n",
      "2940   Puppet Master III: Toulon's Revenge (1991)     181.0\n",
      "8949                                Eragon (2006)     178.0\n",
      "8982                             Road, The (2009)     177.0\n",
      "744                             Wyatt Earp (1994)     171.0\n",
      "3474                  Terminator Salvation (2009)     170.0\n",
      "2139  Imaginarium of Doctor Parnassus, The (2009)     164.0\n",
      "207                             Sister Act (1992)     161.0\n",
      "5572              Boys of St. Vincent, The (1992)     159.0\n",
      "2163                                  Salt (2010)     149.0\n",
      "327                               Maverick (1994)     146.0\n",
      "3656                            La La Land (2016)     143.0\n",
      "3555                      Lone Ranger, The (2013)     141.0\n"
     ]
    }
   ],
   "source": [
    "c = df['rating'].mean()\n",
    "m = df['rating_y'].quantile(0.3)\n",
    "\n",
    "qualified_movies = df_unique[df_unique['rating_y'] >= m]\n",
    "\n",
    "print(df[['title', 'rating_y']].sort_values(by='rating_y', ascending=False).head(20))\n",
    "\n",
    "qualified_movies = qualified_movies.copy()\n",
    "qualified_movies.loc[:, \"score\"] = (\n",
    "    (qualified_movies[\"rating_x\"] * qualified_movies[\"rating_y\"] + c * m) /\n",
    "    (qualified_movies[\"rating_y\"] + m)\n",
    ")\n",
    "qualified_movies = qualified_movies.sort_values(by='score', ascending=False)\n"
   ]
  },
  {
   "cell_type": "code",
   "execution_count": 82,
   "metadata": {},
   "outputs": [
    {
     "name": "stdout",
     "output_type": "stream",
     "text": [
      "                                                  title     score\n",
      "8227                          Pump Up the Volume (1990)  4.471139\n",
      "219                                    Gladiator (2000)  4.459595\n",
      "752   City Slickers II: The Legend of Curly's Gold (...  4.449493\n",
      "3672                             Midnight Cowboy (1969)  4.441498\n",
      "954   Star Wars: Episode II - Attack of the Clones (...  4.432658\n",
      "3861                                       Titus (1999)  4.432658\n",
      "2209                                   Prisoners (2013)  4.412247\n",
      "1641                                Blood Simple (1984)  4.369075\n",
      "679                                Losing Isaiah (1995)  4.359595\n",
      "1727                           Untouchables, The (1987)  4.324493\n",
      "3953                                 Dirty Harry (1971)  4.319865\n",
      "1556  Star Wars: Episode VII - The Force Awakens (2015)  4.299662\n",
      "3499                                   Grown Ups (2010)  4.283927\n",
      "2235                     Avengers: Age of Ultron (2015)  4.265991\n",
      "3757                      No Country for Old Men (2007)  4.265991\n",
      "3583                                     RoboCop (2014)  4.265991\n",
      "8417                                   Body Heat (1981)  4.265991\n",
      "94                     Last of the Mohicans, The (1992)  4.265991\n",
      "8487                            Monsieur Verdoux (1947)  4.265991\n",
      "700                              Specialist, The (1994)  4.265991\n"
     ]
    }
   ],
   "source": [
    "print(qualified_movies[['title', 'score']].head(20))"
   ]
  }
 ],
 "metadata": {
  "kernelspec": {
   "display_name": "venv",
   "language": "python",
   "name": "python3"
  },
  "language_info": {
   "codemirror_mode": {
    "name": "ipython",
    "version": 3
   },
   "file_extension": ".py",
   "mimetype": "text/x-python",
   "name": "python",
   "nbconvert_exporter": "python",
   "pygments_lexer": "ipython3",
   "version": "3.12.1"
  }
 },
 "nbformat": 4,
 "nbformat_minor": 2
}
